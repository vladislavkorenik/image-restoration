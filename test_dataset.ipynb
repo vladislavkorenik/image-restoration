{
  "nbformat": 4,
  "nbformat_minor": 0,
  "metadata": {
    "kernelspec": {
      "display_name": "Python 3",
      "language": "python",
      "name": "python3"
    },
    "language_info": {
      "codemirror_mode": {
        "name": "ipython",
        "version": 3
      },
      "file_extension": ".py",
      "mimetype": "text/x-python",
      "name": "python",
      "nbconvert_exporter": "python",
      "pygments_lexer": "ipython3",
      "version": "3.6.6"
    },
    "colab": {
      "name": "test_dataset.ipynb",
      "provenance": []
    }
  },
  "cells": [
    {
      "cell_type": "code",
      "metadata": {
        "id": "FsYISahIrsql"
      },
      "source": [
        "# !git clone https://github.com/vladislavkorenik/image-restoration\n",
        "# !mv image-restoration/* ./"
      ],
      "execution_count": null,
      "outputs": []
    },
    {
      "cell_type": "code",
      "metadata": {
        "id": "rcPAlVYUrsqu"
      },
      "source": [
        "import torch\n",
        "import numpy as np\n",
        "from data import NoisyDataset\n",
        "import matplotlib.pyplot as plt\n",
        "from torch.utils.data import DataLoader"
      ],
      "execution_count": null,
      "outputs": []
    },
    {
      "cell_type": "code",
      "metadata": {
        "id": "-EgCMoF4rsqw"
      },
      "source": [
        "def show(img):\n",
        "    plt.figure()\n",
        "    npimg = torch.squeeze(img).numpy()\n",
        "    plt.imshow(np.transpose(npimg, (1,2,0)))"
      ],
      "execution_count": null,
      "outputs": []
    },
    {
      "cell_type": "code",
      "metadata": {
        "id": "FrvSn_AcsZlo"
      },
      "source": [
        "def showResult(loadedData):\n",
        "    i = 0\n",
        "    for data in loadedData:\n",
        "        plt.figure()\n",
        "        show(data[0])\n",
        "        show(data[-1])\n",
        "        if i == 0:\n",
        "            break"
      ],
      "execution_count": null,
      "outputs": []
    },
    {
      "cell_type": "code",
      "metadata": {
        "id": "gAtm88g9rsqu"
      },
      "source": [
        "data_ = NoisyDataset('dataset/train', crop_size=128) # Default gaussian noise without clean targets"
      ],
      "execution_count": null,
      "outputs": []
    },
    {
      "cell_type": "code",
      "metadata": {
        "id": "mtNBkPnNrsqv"
      },
      "source": [
        "dl = DataLoader(data_, batch_size=1, shuffle=True)"
      ],
      "execution_count": null,
      "outputs": []
    },
    {
      "cell_type": "code",
      "metadata": {
        "id": "ZSnHbr2orsqw"
      },
      "source": [
        "showResult(dl)"
      ],
      "execution_count": null,
      "outputs": []
    },
    {
      "cell_type": "code",
      "metadata": {
        "id": "bm6biY5Rrsqx"
      },
      "source": [
        "data_2 = NoisyDataset('dataset/train', train_noise_model=('text', 0.3)) # Text corruption without clean targets"
      ],
      "execution_count": null,
      "outputs": []
    },
    {
      "cell_type": "code",
      "metadata": {
        "id": "3-bHq1vBrsqx"
      },
      "source": [
        "dl2 = DataLoader(data_2, shuffle=True)"
      ],
      "execution_count": null,
      "outputs": []
    },
    {
      "cell_type": "code",
      "metadata": {
        "id": "k-Ou3BYRrsqy"
      },
      "source": [
        "showResult(dl2)"
      ],
      "execution_count": null,
      "outputs": []
    },
    {
      "cell_type": "code",
      "metadata": {
        "id": "ExtVnlokrsqy"
      },
      "source": [
        "data_3 = NoisyDataset('dataset/train', train_noise_model=('poisson', None), clean_targ=True)"
      ],
      "execution_count": null,
      "outputs": []
    },
    {
      "cell_type": "code",
      "metadata": {
        "id": "PfJZ-R-Irsqy"
      },
      "source": [
        "dl3 = DataLoader(data_3, shuffle=True)"
      ],
      "execution_count": null,
      "outputs": []
    },
    {
      "cell_type": "code",
      "metadata": {
        "id": "ZoHn0xvdrsqz"
      },
      "source": [
        "showResult(dl3)"
      ],
      "execution_count": null,
      "outputs": []
    },
    {
      "cell_type": "code",
      "metadata": {
        "id": "1T9_ZrVprsqz"
      },
      "source": [
        "data_4 = NoisyDataset('dataset/train', train_noise_model=('multiplicative_bernoulli', 0.20), clean_targ=True)"
      ],
      "execution_count": null,
      "outputs": []
    },
    {
      "cell_type": "code",
      "metadata": {
        "id": "BohFkprQrsqz"
      },
      "source": [
        "dl4 = DataLoader(data_4, shuffle=True)"
      ],
      "execution_count": null,
      "outputs": []
    },
    {
      "cell_type": "code",
      "metadata": {
        "id": "14PNHZ5brsq0"
      },
      "source": [
        "showResult(dl4)"
      ],
      "execution_count": null,
      "outputs": []
    }
  ]
}