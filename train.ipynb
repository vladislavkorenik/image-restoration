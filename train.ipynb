{
  "nbformat": 4,
  "nbformat_minor": 0,
  "metadata": {
    "kernelspec": {
      "display_name": "Python 3",
      "language": "python",
      "name": "python3"
    },
    "language_info": {
      "codemirror_mode": {
        "name": "ipython",
        "version": 3
      },
      "file_extension": ".py",
      "mimetype": "text/x-python",
      "name": "python",
      "nbconvert_exporter": "python",
      "pygments_lexer": "ipython3",
      "version": "3.6.6"
    },
    "colab": {
      "name": "test_train.ipynb",
      "provenance": []
    },
    "accelerator": "GPU"
  },
  "cells": [
    {
      "cell_type": "code",
      "metadata": {
        "id": "IivctkB1-8vQ"
      },
      "source": [
        "!git clone https://github.com/vladislavkorenik/image-restoration\n",
        "!mv image-restoration/* ./"
      ],
      "execution_count": null,
      "outputs": []
    },
    {
      "cell_type": "code",
      "metadata": {
        "id": "S-vb16rO-8vY"
      },
      "source": [
        "import cv2\n",
        "import math\n",
        "import torch\n",
        "import numpy as np\n",
        "from noise import NoisyDataset\n",
        "import matplotlib.pyplot as plt\n",
        "from torch.autograd import Variable\n",
        "from torch.utils.data import DataLoader\n",
        "\n",
        "def show(img, a):\n",
        "\n",
        "    plt.figure()\n",
        "    if a == 'v':\n",
        "        npimg = torch.squeeze(img).data.cpu().numpy()\n",
        "    else:\n",
        "        npimg = torch.squeeze(img).numpy()\n",
        "\n",
        "    transposeImg = np.transpose(npimg, (1,2,0))\n",
        "    plt.imshow(transposeImg)\n",
        "\n",
        "    return transposeImg\n",
        "\n",
        "def ssim(img1, img2):\n",
        "\n",
        "    C1 = (0.01 * 255)**2\n",
        "    C2 = (0.03 * 255)**2\n",
        "\n",
        "    img1 = img1.astype(np.float64)\n",
        "    img2 = img2.astype(np.float64)\n",
        "    kernel = cv2.getGaussianKernel(11, 1.5)\n",
        "    window = np.outer(kernel, kernel.transpose())\n",
        "\n",
        "    mu1 = cv2.filter2D(img1, -1, window)[5:-5, 5:-5]  # valid\n",
        "    mu2 = cv2.filter2D(img2, -1, window)[5:-5, 5:-5]\n",
        "    mu1_sq = mu1**2\n",
        "    mu2_sq = mu2**2\n",
        "    mu1_mu2 = mu1 * mu2\n",
        "    sigma1_sq = cv2.filter2D(img1**2, -1, window)[5:-5, 5:-5] - mu1_sq\n",
        "    sigma2_sq = cv2.filter2D(img2**2, -1, window)[5:-5, 5:-5] - mu2_sq\n",
        "    sigma12 = cv2.filter2D(img1 * img2, -1, window)[5:-5, 5:-5] - mu1_mu2\n",
        "\n",
        "    ssim_map = ((2 * mu1_mu2 + C1) * (2 * sigma12 + C2)) / ((mu1_sq + mu2_sq + C1) *\n",
        "                                                            (sigma1_sq + sigma2_sq + C2))\n",
        "    return ssim_map.mean()\n",
        "\n",
        "\n",
        "def calculate_ssim(img1, img2):\n",
        "\n",
        "    if not img1.shape == img2.shape:\n",
        "        raise ValueError('Input images must have the same dimensions.')\n",
        "    if img1.ndim == 2:\n",
        "        return ssim(img1, img2)\n",
        "    elif img1.ndim == 3:\n",
        "        if img1.shape[2] == 3:\n",
        "            ssims = []\n",
        "            for itr in range(3):\n",
        "                ssims.append(ssim(img1, img2))\n",
        "            return np.array(ssims).mean()\n",
        "        elif img1.shape[2] == 1:\n",
        "            return ssim(np.squeeze(img1), np.squeeze(img2))\n",
        "    else:\n",
        "        raise ValueError('Wrong input image dimensions.')\n",
        "\n",
        "def calculate_mse(img1, img2):\n",
        "\n",
        "    img1 = img1\n",
        "    img2 = img2.astype(np.float64)\n",
        "    mse = np.mean((img1 - img2)**2)\n",
        "\n",
        "    return mse\n",
        "\n",
        "def calculate_psnr(img1, img2):\n",
        "    \n",
        "    mse = calculate_mse(img1, img2)\n",
        "    if mse == 0:\n",
        "        return float('inf')\n",
        "    return 20 * math.log10(255.0 / math.sqrt(mse))"
      ],
      "execution_count": 112,
      "outputs": []
    },
    {
      "cell_type": "code",
      "execution_count": null,
      "metadata": {},
      "outputs": [],
      "source": [
        "modelName = 'multiplicative_bernoulli'\n",
        "noiseParam = 0.85\n",
        "\n",
        "# modelName = 'text'\n",
        "# noiseParam = 0.3\n",
        "\n",
        "# modelName = 'gaussian'\n",
        "# noiseParam = 60"
      ]
    },
    {
      "cell_type": "code",
      "metadata": {
        "id": "kEQBX1Qq-8vS"
      },
      "source": [
        "from model import NetModel\n",
        "from train_utils import Train\n",
        "\n",
        "architecture = NetModel(3, 64)\n",
        "\n",
        "params = {\n",
        "    'noise_model': (modelName, noiseParam),\n",
        "    'crop_size': 64,\n",
        "    'clean_targs': False,\n",
        "    'lr': 0.001,\n",
        "    'epochs': 100,\n",
        "    'bs': 2,\n",
        "    'cuda': True\n",
        "}\n",
        "\n",
        "trainer = Train(architecture, 'dataset/train', 'dataset/valid', params)\n",
        "trainer.train()\n",
        "model = trainer.architecture\n",
        "\n",
        "torch.save(model,modelName + '.pt')"
      ],
      "execution_count": null,
      "outputs": []
    },
    {
      "cell_type": "code",
      "metadata": {
        "id": "5TKy9DHY-8vW"
      },
      "source": [
        "model = torch.load('trained/' + modelName + '.pt')"
      ],
      "execution_count": 109,
      "outputs": []
    },
    {
      "cell_type": "code",
      "metadata": {
        "id": "FUCEiA-8-8va"
      },
      "source": [
        "data = NoisyDataset('dataset/valid/', crop_size=128, train_noise_model=(modelName, noiseParam), clean_targ=True)\n",
        "loadedData = DataLoader(data, batch_size=1, shuffle=True)\n",
        "\n",
        "i = 0\n",
        "for _list in loadedData:\n",
        "    plt.figure()\n",
        "    pred = model(Variable(_list[0].cuda()))\n",
        "    pred_img = show(pred, 'v')\n",
        "    noise_img = show(_list[0], 't')\n",
        "    source_img = show(_list[-1], 't')\n",
        "\n",
        "    if i == 0:\n",
        "        break\n",
        "\n",
        "psnr_val = calculate_psnr(noise_img, pred_img)\n",
        "ssim_val = calculate_ssim(source_img, pred_img)\n",
        "mse_val = calculate_mse(source_img, pred_img)\n",
        "print('PSNR: ' + str(psnr_val) + ' SSIM: ' + str(ssim_val) + ' MSE: ' + str(mse_val))"
      ],
      "execution_count": null,
      "outputs": []
    }
  ]
}