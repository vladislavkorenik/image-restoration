{
  "nbformat": 4,
  "nbformat_minor": 0,
  "metadata": {
    "kernelspec": {
      "display_name": "Python 3",
      "language": "python",
      "name": "python3"
    },
    "language_info": {
      "codemirror_mode": {
        "name": "ipython",
        "version": 3
      },
      "file_extension": ".py",
      "mimetype": "text/x-python",
      "name": "python",
      "nbconvert_exporter": "python",
      "pygments_lexer": "ipython3",
      "version": "3.6.6"
    },
    "colab": {
      "name": "test_train.ipynb",
      "provenance": []
    },
    "accelerator": "GPU"
  },
  "cells": [
    {
      "cell_type": "code",
      "metadata": {
        "id": "IivctkB1-8vQ"
      },
      "source": [
        "!git clone https://github.com/vladislavkorenik/image-restoration\n",
        "!mv image-restoration/* ./"
      ],
      "execution_count": null,
      "outputs": []
    },
    {
      "cell_type": "code",
      "metadata": {
        "id": "S-vb16rO-8vY"
      },
      "source": [
        "import torch\n",
        "import numpy as np\n",
        "from noise import NoisyDataset\n",
        "import matplotlib.pyplot as plt\n",
        "from torch.autograd import Variable\n",
        "from torch.utils.data import DataLoader\n",
        "\n",
        "modelName = 'multiplicative_bernoulli'\n",
        "noiseParam = 0.85\n",
        "\n",
        "# modelName = 'text'\n",
        "# noiseParam = 0.3\n",
        "\n",
        "# modelName = 'gaussian'\n",
        "# noiseParam = 60\n",
        "\n",
        "def show(img, a):\n",
        "    plt.figure()\n",
        "    if a == 'v':\n",
        "        npimg = torch.squeeze(img).data.cpu().numpy()\n",
        "    else:\n",
        "        npimg = torch.squeeze(img).numpy()\n",
        "    plt.imshow(np.transpose(npimg, (1,2,0)))"
      ],
      "execution_count": 112,
      "outputs": []
    },
    {
      "cell_type": "code",
      "metadata": {
        "id": "kEQBX1Qq-8vS"
      },
      "source": [
        "from model import NetModel\n",
        "from train_utils import Train\n",
        "\n",
        "architecture = NetModel(3, 64)\n",
        "\n",
        "params = {\n",
        "    'noise_model': (modelName, noiseParam),\n",
        "    'crop_size': 64,\n",
        "    'clean_targs': False,\n",
        "    'lr': 0.001,\n",
        "    'epochs': 100,\n",
        "    'bs': 2,\n",
        "    'cuda': True\n",
        "}\n",
        "\n",
        "trainer = Train(architecture, 'dataset/train', 'dataset/valid', params)\n",
        "trainer.train()\n",
        "model = trainer.architecture\n",
        "\n",
        "torch.save(model,modelName + '.pt')"
      ],
      "execution_count": null,
      "outputs": []
    },
    {
      "cell_type": "code",
      "metadata": {
        "id": "5TKy9DHY-8vW"
      },
      "source": [
        "model = torch.load('trained/' + modelName + '.pt')"
      ],
      "execution_count": 109,
      "outputs": []
    },
    {
      "cell_type": "code",
      "metadata": {
        "id": "FUCEiA-8-8va"
      },
      "source": [
        "data_ = NoisyDataset('dataset/valid/', crop_size=128, train_noise_model=(modelName, noiseParam), clean_targ=True)\n",
        "dl = DataLoader(data_, batch_size=1, shuffle=True)\n",
        "\n",
        "i = 0\n",
        "for _list in dl:\n",
        "    plt.figure()\n",
        "    pred = model(Variable(_list[0].cuda()))\n",
        "    show(pred, 'v')\n",
        "    show(_list[0], 't')\n",
        "    show(_list[-1], 't')\n",
        "    if i == 0:\n",
        "        break"
      ],
      "execution_count": null,
      "outputs": []
    }
  ]
}