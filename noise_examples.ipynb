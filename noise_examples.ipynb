{
  "nbformat": 4,
  "nbformat_minor": 0,
  "metadata": {
    "kernelspec": {
      "display_name": "Python 3",
      "language": "python",
      "name": "python3"
    },
    "language_info": {
      "codemirror_mode": {
        "name": "ipython",
        "version": 3
      },
      "file_extension": ".py",
      "mimetype": "text/x-python",
      "name": "python",
      "nbconvert_exporter": "python",
      "pygments_lexer": "ipython3",
      "version": "3.6.6"
    },
    "colab": {
      "name": "test_dataset.ipynb",
      "provenance": []
    }
  },
  "cells": [
    {
      "cell_type": "code",
      "execution_count": null,
      "metadata": {},
      "outputs": [],
      "source": [
        "!git clone https://github.com/vladislavkorenik/image-restoration\n",
        "!mv image-restoration/* ./"
      ]
    },
    {
      "cell_type": "code",
      "metadata": {
        "id": "rcPAlVYUrsqu"
      },
      "source": [
        "import torch\n",
        "import numpy as np\n",
        "from noise import NoisyDataset\n",
        "import matplotlib.pyplot as plt\n",
        "from torch.utils.data import DataLoader"
      ],
      "execution_count": 2,
      "outputs": []
    },
    {
      "cell_type": "code",
      "metadata": {
        "id": "-EgCMoF4rsqw"
      },
      "source": [
        "def show(img):\n",
        "    plt.figure()\n",
        "    npimg = torch.squeeze(img).numpy()\n",
        "    plt.imshow(np.transpose(npimg, (1,2,0)))"
      ],
      "execution_count": 6,
      "outputs": []
    },
    {
      "cell_type": "code",
      "metadata": {
        "id": "FrvSn_AcsZlo"
      },
      "source": [
        "def showResult(loadedData):\n",
        "    i = 0\n",
        "    for data in loadedData:\n",
        "        plt.figure()\n",
        "        show(data[0])\n",
        "        show(data[-1])\n",
        "        if i == 0:\n",
        "            break"
      ],
      "execution_count": 5,
      "outputs": []
    },
    {
      "cell_type": "code",
      "metadata": {
        "id": "mtNBkPnNrsqv"
      },
      "source": [
        "gaussianData = NoisyDataset('dataset/train', crop_size=128, clean_targ=True) #Gaussian noise\n",
        "lodedGaussian = DataLoader(gaussianData, batch_size=1, shuffle=True)\n",
        "\n",
        "showResult(lodedGaussian)"
      ],
      "execution_count": 8,
      "outputs": []
    },
    {
      "cell_type": "code",
      "metadata": {
        "id": "bm6biY5Rrsqx"
      },
      "source": [
        "textData = NoisyDataset('dataset/train', train_noise_model=('text', 0.3), clean_targ=True) #Text corruption\n",
        "loadedText = DataLoader(textData, shuffle=True)\n",
        "\n",
        "showResult(loadedText)"
      ],
      "execution_count": 19,
      "outputs": []
    },
    {
      "cell_type": "code",
      "metadata": {
        "id": "1T9_ZrVprsqz"
      },
      "source": [
        "bernoulliData = NoisyDataset('dataset/train', train_noise_model=('multiplicative_bernoulli', 0.20), clean_targ=True) #Bernoulli noise\n",
        "loadedBernoulli = DataLoader(bernoulliData, shuffle=True)\n",
        "\n",
        "showResult(loadedBernoulli)"
      ],
      "execution_count": 16,
      "outputs": []
    }
  ]
}